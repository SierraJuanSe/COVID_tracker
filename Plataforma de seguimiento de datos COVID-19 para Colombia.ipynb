{
 "cells": [
  {
   "cell_type": "markdown",
   "metadata": {},
   "source": [
    "# Plataforma de seguimiento de datos COVID-19 para Colombia\n",
    "\n",
    "## Universidad Sergio Arboleda\n",
    "\n",
    "- Leyder Jesus Pacheco  - juan.sierra01@correo.usa.edu.co\n",
    "- Luis Felipe Velasquez  - luis.velasquez01@correo.usa.edu.co\n",
    "- Juan Sebastian Sierra  - juan.sierra01@correo.usa.edu.co"
   ]
  },
  {
   "cell_type": "markdown",
   "metadata": {},
   "source": [
    "Para la primera entrega se requiere una aplicación que extraiga los datos actualizados de COVID-19 en\n",
    "Colombia de Internet y los guarde en una base de datos. Estos datos posteriormente se deberán representar\n",
    "de forma selectiva mediante tortas, gráficos de dos dimensiones y diagramas de barras."
   ]
  },
  {
   "cell_type": "markdown",
   "metadata": {},
   "source": [
    "### 1.1 Paquetes"
   ]
  },
  {
   "cell_type": "markdown",
   "metadata": {},
   "source": [
    "Información de los paquetes importados y utilizados\n",
    "\n",
    "- numpy\n",
    "- matplotlib\n",
    "- pandas"
   ]
  },
  {
   "cell_type": "code",
   "execution_count": null,
   "metadata": {},
   "outputs": [],
   "source": [
    "import numpy as np\n",
    "import matplotlib.pyplot as plt\n",
    "import pandas as pd"
   ]
  },
  {
   "cell_type": "markdown",
   "metadata": {},
   "source": [
    "## 1. Extracción de los datos actualizados de COVID-19 en Colombia de Internet"
   ]
  },
  {
   "cell_type": "markdown",
   "metadata": {},
   "source": [
    "Para extraer los datos de los casos de COVID-19 en Colombia se utiliza la base de datos abiertos de colombia [datos.gov.co](https://www.datos.gov.co/Salud-y-Protecci-n-Social/Casos-positivos-de-COVID-19-en-Colombia/gt2j-8ykr/data) mediante la API Socrata Open Data para obtener los datos en formato .csv"
   ]
  },
  {
   "cell_type": "code",
   "execution_count": null,
   "metadata": {},
   "outputs": [],
   "source": [
    "# direccion URL de Open data\n",
    "url = \"https://www.datos.gov.co/api/views/gt2j-8ykr/rows.csv?accessType=DOWNLOAD\"\n",
    "\n",
    "data = pd.read_csv(url, low_memory=False)\n",
    "data.to_csv(\"datasets/pruebacovid.csv\")\n",
    "#prueba descarga de datos"
   ]
  },
  {
   "cell_type": "code",
   "execution_count": null,
   "metadata": {},
   "outputs": [],
   "source": []
  }
 ],
 "metadata": {
  "kernelspec": {
   "display_name": "Python 3",
   "language": "python",
   "name": "python3"
  },
  "language_info": {
   "codemirror_mode": {
    "name": "ipython",
    "version": 3
   },
   "file_extension": ".py",
   "mimetype": "text/x-python",
   "name": "python",
   "nbconvert_exporter": "python",
   "pygments_lexer": "ipython3",
   "version": "3.8.5"
  }
 },
 "nbformat": 4,
 "nbformat_minor": 4
}
