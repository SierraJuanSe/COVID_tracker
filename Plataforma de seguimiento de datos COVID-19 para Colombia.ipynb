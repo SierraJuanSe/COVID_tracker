{
 "cells": [
  {
   "cell_type": "markdown",
   "metadata": {},
   "source": [
    "# Plataforma de seguimiento de datos COVID-19 para Colombia\n",
    "\n",
    "## Universidad Sergio Arboleda\n",
    "\n",
    "- Leyder Jesus Pacheco  - juan.sierra01@correo.usa.edu.co\n",
    "- Luis Felipe Velasquez  - luis.velasquez01@correo.usa.edu.co\n",
    "- Juan Sebastian Sierra  - juan.sierra01@correo.usa.edu.co"
   ]
  },
  {
   "cell_type": "markdown",
   "metadata": {},
   "source": [
    "Para la primera entrega se requiere una aplicación que extraiga los datos actualizados de COVID-19 en\n",
    "Colombia de Internet y los guarde en una base de datos. Estos datos posteriormente se deberán representar\n",
    "de forma selectiva mediante tortas, gráficos de dos dimensiones y diagramas de barras."
   ]
  },
  {
   "cell_type": "markdown",
   "metadata": {},
   "source": [
    "### 1.1 Paquetes"
   ]
  },
  {
   "cell_type": "markdown",
   "metadata": {},
   "source": [
    "Información de los paquetes importados y utilizados\n",
    "\n",
    "- numpy\n",
    "- matplotlib\n",
    "- pandas"
   ]
  },
  {
   "cell_type": "code",
   "execution_count": 1,
   "metadata": {},
   "outputs": [],
   "source": [
    "import numpy as np\n",
    "import matplotlib.pyplot as plt\n",
    "import pandas as pd\n",
    "import sqlite3 as db\n",
    "from sqlite3 import Error"
   ]
  },
  {
   "cell_type": "markdown",
   "metadata": {},
   "source": [
    "## 1. Extracción de los datos actualizados de COVID-19 en Colombia de Internet"
   ]
  },
  {
   "cell_type": "markdown",
   "metadata": {},
   "source": [
    "Para extraer los datos de los casos de COVID-19 en Colombia se utiliza la base de datos abiertos de colombia [datos.gov.co](https://www.datos.gov.co/Salud-y-Protecci-n-Social/Casos-positivos-de-COVID-19-en-Colombia/gt2j-8ykr/data) mediante la API Socrata Open Data para obtener los datos en formato .csv"
   ]
  },
  {
   "cell_type": "code",
   "execution_count": null,
   "metadata": {},
   "outputs": [],
   "source": [
    "# Ejecutar celda una sola vez\n",
    "# direccion URL de Open data\n",
    "url = \"https://www.datos.gov.co/api/views/gt2j-8ykr/rows.csv?accessType=DOWNLOAD\"\n",
    "\n",
    "data = pd.read_csv(url, low_memory=False)\n",
    "#data.to_csv(\"datasets/pruebacovid.csv\")\n",
    "#prueba descarga de datos"
   ]
  },
  {
   "cell_type": "markdown",
   "metadata": {},
   "source": [
    "## 2. Almacenamiento de datos en una base de datos"
   ]
  },
  {
   "cell_type": "markdown",
   "metadata": {},
   "source": [
    "para el almacenamiento se usar el motor de base de datos por defecto sqlite, con el paquete sqlite3."
   ]
  },
  {
   "cell_type": "code",
   "execution_count": 2,
   "metadata": {},
   "outputs": [],
   "source": [
    "#metodo para conectar a la base de datos\n",
    "def connect_database(name):\n",
    "    conn = None\n",
    "    try:\n",
    "        conn = db.connect(name)\n",
    "        print(db.version)\n",
    "        return conn\n",
    "    except Error as e:\n",
    "        print(e)"
   ]
  },
  {
   "cell_type": "code",
   "execution_count": 3,
   "metadata": {},
   "outputs": [],
   "source": [
    "def close_db(conn):\n",
    "    conn.commit()\n",
    "    conn.close()"
   ]
  },
  {
   "cell_type": "code",
   "execution_count": 4,
   "metadata": {},
   "outputs": [],
   "source": [
    "#metodo para guardar la informacion descargada\n",
    "def save_data(data, table, conn):\n",
    "    data.to_sql(table, conn, if_exists='replace')"
   ]
  },
  {
   "cell_type": "code",
   "execution_count": 5,
   "metadata": {},
   "outputs": [
    {
     "name": "stdout",
     "output_type": "stream",
     "text": [
      "2.6.0\n"
     ]
    }
   ],
   "source": [
    "# constantes\n",
    "database = 'datasets/covid.db'\n",
    "table = 'covid_table'\n",
    "conn = connect_database(database)\n",
    "c = conn.cursor()"
   ]
  },
  {
   "cell_type": "code",
   "execution_count": null,
   "metadata": {},
   "outputs": [],
   "source": [
    "#Guardar los datos descargados\n",
    "#Ejecutar una sola vez\n",
    "pd.to_sql(table, conn, if_exists='replace')"
   ]
  },
  {
   "cell_type": "code",
   "execution_count": 9,
   "metadata": {},
   "outputs": [
    {
     "data": {
      "text/html": [
       "<div>\n",
       "<style scoped>\n",
       "    .dataframe tbody tr th:only-of-type {\n",
       "        vertical-align: middle;\n",
       "    }\n",
       "\n",
       "    .dataframe tbody tr th {\n",
       "        vertical-align: top;\n",
       "    }\n",
       "\n",
       "    .dataframe thead th {\n",
       "        text-align: right;\n",
       "    }\n",
       "</style>\n",
       "<table border=\"1\" class=\"dataframe\">\n",
       "  <thead>\n",
       "    <tr style=\"text-align: right;\">\n",
       "      <th></th>\n",
       "      <th>index</th>\n",
       "      <th>ID de caso</th>\n",
       "      <th>Fecha de notificación</th>\n",
       "      <th>Código DIVIPOLA</th>\n",
       "      <th>Ciudad de ubicación</th>\n",
       "      <th>Departamento o Distrito</th>\n",
       "      <th>atención</th>\n",
       "      <th>Edad</th>\n",
       "      <th>Sexo</th>\n",
       "      <th>Tipo</th>\n",
       "      <th>...</th>\n",
       "      <th>FIS</th>\n",
       "      <th>Fecha de muerte</th>\n",
       "      <th>Fecha diagnostico</th>\n",
       "      <th>Fecha recuperado</th>\n",
       "      <th>fecha reporte web</th>\n",
       "      <th>Tipo recuperación</th>\n",
       "      <th>Codigo departamento</th>\n",
       "      <th>Codigo pais</th>\n",
       "      <th>Pertenencia etnica</th>\n",
       "      <th>Nombre grupo etnico</th>\n",
       "    </tr>\n",
       "  </thead>\n",
       "  <tbody>\n",
       "    <tr>\n",
       "      <th>0</th>\n",
       "      <td>0</td>\n",
       "      <td>1</td>\n",
       "      <td>2020-03-02T00:00:00.000</td>\n",
       "      <td>11001</td>\n",
       "      <td>Bogotá D.C.</td>\n",
       "      <td>Bogotá D.C.</td>\n",
       "      <td>Recuperado</td>\n",
       "      <td>19</td>\n",
       "      <td>F</td>\n",
       "      <td>Importado</td>\n",
       "      <td>...</td>\n",
       "      <td>2020-02-27T00:00:00.000</td>\n",
       "      <td>None</td>\n",
       "      <td>2020-03-06T00:00:00.000</td>\n",
       "      <td>2020-03-13T00:00:00.000</td>\n",
       "      <td>2020-03-06T00:00:00.000</td>\n",
       "      <td>PCR</td>\n",
       "      <td>11</td>\n",
       "      <td>380.0</td>\n",
       "      <td>Otro</td>\n",
       "      <td>None</td>\n",
       "    </tr>\n",
       "    <tr>\n",
       "      <th>1</th>\n",
       "      <td>1</td>\n",
       "      <td>2</td>\n",
       "      <td>2020-03-06T00:00:00.000</td>\n",
       "      <td>76111</td>\n",
       "      <td>Guadalajara de Buga</td>\n",
       "      <td>Valle del Cauca</td>\n",
       "      <td>Recuperado</td>\n",
       "      <td>34</td>\n",
       "      <td>M</td>\n",
       "      <td>Importado</td>\n",
       "      <td>...</td>\n",
       "      <td>2020-03-04T00:00:00.000</td>\n",
       "      <td>None</td>\n",
       "      <td>2020-03-09T00:00:00.000</td>\n",
       "      <td>2020-03-19T00:00:00.000</td>\n",
       "      <td>2020-03-09T00:00:00.000</td>\n",
       "      <td>PCR</td>\n",
       "      <td>76</td>\n",
       "      <td>724.0</td>\n",
       "      <td>Negro</td>\n",
       "      <td>None</td>\n",
       "    </tr>\n",
       "    <tr>\n",
       "      <th>2</th>\n",
       "      <td>2</td>\n",
       "      <td>3</td>\n",
       "      <td>2020-03-07T00:00:00.000</td>\n",
       "      <td>5001</td>\n",
       "      <td>Medellín</td>\n",
       "      <td>Antioquia</td>\n",
       "      <td>Recuperado</td>\n",
       "      <td>50</td>\n",
       "      <td>F</td>\n",
       "      <td>Importado</td>\n",
       "      <td>...</td>\n",
       "      <td>2020-02-29T00:00:00.000</td>\n",
       "      <td>None</td>\n",
       "      <td>2020-03-09T00:00:00.000</td>\n",
       "      <td>2020-03-15T00:00:00.000</td>\n",
       "      <td>2020-03-09T00:00:00.000</td>\n",
       "      <td>PCR</td>\n",
       "      <td>5</td>\n",
       "      <td>724.0</td>\n",
       "      <td>Otro</td>\n",
       "      <td>None</td>\n",
       "    </tr>\n",
       "    <tr>\n",
       "      <th>3</th>\n",
       "      <td>3</td>\n",
       "      <td>4</td>\n",
       "      <td>2020-03-09T00:00:00.000</td>\n",
       "      <td>5001</td>\n",
       "      <td>Medellín</td>\n",
       "      <td>Antioquia</td>\n",
       "      <td>Recuperado</td>\n",
       "      <td>55</td>\n",
       "      <td>M</td>\n",
       "      <td>Relacionado</td>\n",
       "      <td>...</td>\n",
       "      <td>2020-03-06T00:00:00.000</td>\n",
       "      <td>None</td>\n",
       "      <td>2020-03-11T00:00:00.000</td>\n",
       "      <td>2020-03-26T00:00:00.000</td>\n",
       "      <td>2020-03-11T00:00:00.000</td>\n",
       "      <td>PCR</td>\n",
       "      <td>5</td>\n",
       "      <td>NaN</td>\n",
       "      <td>Otro</td>\n",
       "      <td>None</td>\n",
       "    </tr>\n",
       "    <tr>\n",
       "      <th>4</th>\n",
       "      <td>4</td>\n",
       "      <td>5</td>\n",
       "      <td>2020-03-09T00:00:00.000</td>\n",
       "      <td>5001</td>\n",
       "      <td>Medellín</td>\n",
       "      <td>Antioquia</td>\n",
       "      <td>Recuperado</td>\n",
       "      <td>25</td>\n",
       "      <td>M</td>\n",
       "      <td>Relacionado</td>\n",
       "      <td>...</td>\n",
       "      <td>2020-03-08T00:00:00.000</td>\n",
       "      <td>None</td>\n",
       "      <td>2020-03-11T00:00:00.000</td>\n",
       "      <td>2020-03-23T00:00:00.000</td>\n",
       "      <td>2020-03-11T00:00:00.000</td>\n",
       "      <td>PCR</td>\n",
       "      <td>5</td>\n",
       "      <td>NaN</td>\n",
       "      <td>Otro</td>\n",
       "      <td>None</td>\n",
       "    </tr>\n",
       "  </tbody>\n",
       "</table>\n",
       "<p>5 rows × 22 columns</p>\n",
       "</div>"
      ],
      "text/plain": [
       "   index  ID de caso    Fecha de notificación  Código DIVIPOLA  \\\n",
       "0      0           1  2020-03-02T00:00:00.000            11001   \n",
       "1      1           2  2020-03-06T00:00:00.000            76111   \n",
       "2      2           3  2020-03-07T00:00:00.000             5001   \n",
       "3      3           4  2020-03-09T00:00:00.000             5001   \n",
       "4      4           5  2020-03-09T00:00:00.000             5001   \n",
       "\n",
       "   Ciudad de ubicación Departamento o Distrito     atención  Edad Sexo  \\\n",
       "0          Bogotá D.C.              Bogotá D.C.  Recuperado    19    F   \n",
       "1  Guadalajara de Buga          Valle del Cauca  Recuperado    34    M   \n",
       "2             Medellín                Antioquia  Recuperado    50    F   \n",
       "3             Medellín                Antioquia  Recuperado    55    M   \n",
       "4             Medellín                Antioquia  Recuperado    25    M   \n",
       "\n",
       "          Tipo  ...                      FIS Fecha de muerte  \\\n",
       "0    Importado  ...  2020-02-27T00:00:00.000            None   \n",
       "1    Importado  ...  2020-03-04T00:00:00.000            None   \n",
       "2    Importado  ...  2020-02-29T00:00:00.000            None   \n",
       "3  Relacionado  ...  2020-03-06T00:00:00.000            None   \n",
       "4  Relacionado  ...  2020-03-08T00:00:00.000            None   \n",
       "\n",
       "         Fecha diagnostico         Fecha recuperado        fecha reporte web  \\\n",
       "0  2020-03-06T00:00:00.000  2020-03-13T00:00:00.000  2020-03-06T00:00:00.000   \n",
       "1  2020-03-09T00:00:00.000  2020-03-19T00:00:00.000  2020-03-09T00:00:00.000   \n",
       "2  2020-03-09T00:00:00.000  2020-03-15T00:00:00.000  2020-03-09T00:00:00.000   \n",
       "3  2020-03-11T00:00:00.000  2020-03-26T00:00:00.000  2020-03-11T00:00:00.000   \n",
       "4  2020-03-11T00:00:00.000  2020-03-23T00:00:00.000  2020-03-11T00:00:00.000   \n",
       "\n",
       "  Tipo recuperación Codigo departamento Codigo pais  Pertenencia etnica  \\\n",
       "0               PCR                  11       380.0                Otro   \n",
       "1               PCR                  76       724.0               Negro   \n",
       "2               PCR                   5       724.0                Otro   \n",
       "3               PCR                   5         NaN                Otro   \n",
       "4               PCR                   5         NaN                Otro   \n",
       "\n",
       "   Nombre grupo etnico  \n",
       "0                 None  \n",
       "1                 None  \n",
       "2                 None  \n",
       "3                 None  \n",
       "4                 None  \n",
       "\n",
       "[5 rows x 22 columns]"
      ]
     },
     "execution_count": 9,
     "metadata": {},
     "output_type": "execute_result"
    }
   ],
   "source": [
    "# ejemplo de una consulta\n",
    "data = pd.read_sql(f\"SELECT * FROM {table}\", conn)\n",
    "data.head()"
   ]
  },
  {
   "cell_type": "code",
   "execution_count": null,
   "metadata": {},
   "outputs": [],
   "source": []
  }
 ],
 "metadata": {
  "kernelspec": {
   "display_name": "Python 3",
   "language": "python",
   "name": "python3"
  },
  "language_info": {
   "codemirror_mode": {
    "name": "ipython",
    "version": 3
   },
   "file_extension": ".py",
   "mimetype": "text/x-python",
   "name": "python",
   "nbconvert_exporter": "python",
   "pygments_lexer": "ipython3",
   "version": "3.8.5"
  }
 },
 "nbformat": 4,
 "nbformat_minor": 4
}
