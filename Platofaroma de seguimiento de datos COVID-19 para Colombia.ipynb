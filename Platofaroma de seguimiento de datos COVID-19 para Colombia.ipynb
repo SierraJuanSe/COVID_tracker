{
 "cells": [
  {
   "cell_type": "markdown",
   "metadata": {},
   "source": [
    "# Plataforma de seguimiento de datos COVID-19 para Colombia\n",
    "\n",
    "## Universidad Sergio Arboleda\n",
    "\n",
    "- ### Leyder Jesus Pacheco  - juan.sierra01@correo.usa.edu.co\n",
    "- ### Luis Felipe Velasquez  - luis.velasquez01@correo.usa.edu.co\n",
    "- ### Juan Sebastian Sierra  - juan.sierra01@correo.usa.edu.co"
   ]
  },
  {
   "cell_type": "code",
   "execution_count": null,
   "metadata": {},
   "outputs": [],
   "source": []
  }
 ],
 "metadata": {
  "kernelspec": {
   "display_name": "Python 3",
   "language": "python",
   "name": "python3"
  },
  "language_info": {
   "codemirror_mode": {
    "name": "ipython",
    "version": 3
   },
   "file_extension": ".py",
   "mimetype": "text/x-python",
   "name": "python",
   "nbconvert_exporter": "python",
   "pygments_lexer": "ipython3",
   "version": "3.8.5"
  }
 },
 "nbformat": 4,
 "nbformat_minor": 4
}
